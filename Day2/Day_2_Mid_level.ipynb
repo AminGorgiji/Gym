{
  "nbformat": 4,
  "nbformat_minor": 0,
  "metadata": {
    "colab": {
      "provenance": []
    },
    "kernelspec": {
      "name": "python3",
      "display_name": "Python 3"
    },
    "language_info": {
      "name": "python"
    }
  },
  "cells": [
    {
      "cell_type": "markdown",
      "source": [
        "**The Minion Game**\n",
        "\n",
        "Kevin and Stuart want to play the 'The Minion Game'.\n",
        "Game Rules\n",
        "\n",
        "Both players are given the same string, S.\n",
        "Both players have to make substrings using the letters of the string S.\n",
        "Stuart has to make words starting with consonants.\n",
        "Kevin has to make words starting with vowels.\n",
        "The game ends when both players have made all possible substrings.\n",
        "\n",
        "Scoring\n",
        "A player gets +1 point for each occurrence of the substring in the string .\n",
        "\n",
        "For Example:\n",
        "String  S= BANANA\n",
        "Kevin's vowel beginning word = ANA\n",
        "Here, ANA occurs twice in BANANA. Hence, Kevin will get 2 Points."
      ],
      "metadata": {
        "id": "wqESEndZJ1xr"
      }
    },
    {
      "cell_type": "code",
      "execution_count": 1,
      "metadata": {
        "colab": {
          "base_uri": "https://localhost:8080/"
        },
        "id": "-LQo2sg5Jsfa",
        "outputId": "5ac139ce-15c5-4b77-daa6-a1eab3b761c4"
      },
      "outputs": [
        {
          "output_type": "stream",
          "name": "stdout",
          "text": [
            "BANANA\n",
            "Stuart 12\n"
          ]
        }
      ],
      "source": [
        "def minion_game(string):\n",
        "    # your code goes here\n",
        "    p1=0\n",
        "    p2 = 0\n",
        "    s='AEIOUIaeiou'\n",
        "    l=len(string)\n",
        "    for i in range(l):\n",
        "        score=l-i\n",
        "        if string[i] in s:\n",
        "             p1 += score\n",
        "        else:\n",
        "             p2 += score\n",
        "\n",
        "    if p1 > p2:\n",
        "         print('Kevin {}'.format(p1))\n",
        "\n",
        "    elif p1 < p2:\n",
        "         print('Stuart {}'.format(p2))\n",
        "    else:\n",
        "         print('Draw')\n",
        "\n",
        "if __name__ == '__main__':\n",
        "    s = input()\n",
        "    minion_game(s)"
      ]
    }
  ]
}
