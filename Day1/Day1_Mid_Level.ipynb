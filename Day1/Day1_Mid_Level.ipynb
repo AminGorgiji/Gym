{
  "nbformat": 4,
  "nbformat_minor": 0,
  "metadata": {
    "colab": {
      "provenance": []
    },
    "kernelspec": {
      "name": "python3",
      "display_name": "Python 3"
    },
    "language_info": {
      "name": "python"
    }
  },
  "cells": [
    {
      "cell_type": "markdown",
      "source": [
        "**Acceptable Password**\n",
        "\n",
        "In this mission, you need to create a password verification function.\n",
        "The verification condition is: the length should be bigger than 6.\n",
        "\n",
        "It’s simple! You need to find the length of a given string and check if it’s bigger than"
      ],
      "metadata": {
        "id": "B1aYzu_ro5vN"
      }
    },
    {
      "cell_type": "code",
      "execution_count": null,
      "metadata": {
        "colab": {
          "base_uri": "https://localhost:8080/"
        },
        "id": "aPYBJFvNo4pS",
        "outputId": "aa041598-d80e-4259-84ec-8677adc66cbc"
      },
      "outputs": [
        {
          "output_type": "stream",
          "name": "stdout",
          "text": [
            "Example:\n",
            "False\n",
            "The mission is done!\n"
          ]
        }
      ],
      "source": [
        "def is_acceptable_password(password: str) -> bool:\n",
        "    # your code here\n",
        "    if len(password) > 6:\n",
        "        return True\n",
        "    else:\n",
        "        return False\n",
        "\n",
        "\n",
        "print(\"Example:\")\n",
        "print(is_acceptable_password(\"short\"))\n",
        "\n",
        "# These \"asserts\" are used for self-checking\n",
        "assert is_acceptable_password(\"short\") == False\n",
        "assert is_acceptable_password(\"muchlonger\") == True\n",
        "assert is_acceptable_password(\"ashort\") == False\n",
        "\n",
        "print(\"The mission is done!\")"
      ]
    },
    {
      "cell_type": "markdown",
      "source": [
        "**Multiply (Intro)**\n",
        "\n",
        "This mission is the easiest one. Write a function that will receive 2 numbers as input and it should return the multiplication of these 2 numbers.\n",
        "\n",
        "Input: Two arguments. Both are of type int.\n",
        "\n",
        "Output: Int."
      ],
      "metadata": {
        "id": "R1Pya3AvqFMQ"
      }
    },
    {
      "cell_type": "code",
      "source": [
        "def mult_two(a: int, b: int) -> int:\n",
        "\n",
        "    return a*b\n",
        "\n",
        "\n",
        "print(\"Example\")\n",
        "print(mult_two(1, 2))\n",
        "\n",
        "assert mult_two(3, 2) == 6\n",
        "assert mult_two(0, 1) == 0\n",
        "\n",
        "print(\"The first mission is done!\")\n"
      ],
      "metadata": {
        "colab": {
          "base_uri": "https://localhost:8080/"
        },
        "id": "0WxeWbDGr9dD",
        "outputId": "82d76376-34a0-46cc-ccc3-87a0e2dce638"
      },
      "execution_count": 3,
      "outputs": [
        {
          "output_type": "stream",
          "name": "stdout",
          "text": [
            "Example\n",
            "2\n",
            "The first mission is done!\n"
          ]
        }
      ]
    },
    {
      "cell_type": "markdown",
      "source": [
        "**Is Even**\n",
        "\n",
        " Check if the given number is even or not. Your function should return True if the number is even, and False if the number is odd.\n",
        "\n",
        "Input: An integer (int).\n",
        "\n",
        "Output: Logic value (bool)."
      ],
      "metadata": {
        "id": "gfyUkj3QtT0V"
      }
    },
    {
      "cell_type": "code",
      "source": [
        "def is_even(num: int) -> bool:\n",
        "    # your code here\n",
        "    if num%2==0:\n",
        "        return True\n",
        "    else:\n",
        "        return False\n",
        "\n",
        "\n",
        "print(\"Example:\")\n",
        "print(is_even(2))\n",
        "\n",
        "# These \"asserts\" are used for self-checking\n",
        "assert is_even(2) == True\n",
        "assert is_even(5) == False\n",
        "assert is_even(0) == True\n",
        "\n",
        "print(\"The mission is done!\")"
      ],
      "metadata": {
        "colab": {
          "base_uri": "https://localhost:8080/"
        },
        "id": "oFlS4MBntf7G",
        "outputId": "5b963452-a190-4fef-e52a-2bb830b56472"
      },
      "execution_count": 4,
      "outputs": [
        {
          "output_type": "stream",
          "name": "stdout",
          "text": [
            "Example:\n",
            "True\n",
            "The mission is done!\n"
          ]
        }
      ]
    },
    {
      "cell_type": "markdown",
      "source": [
        "**Backward String**\n",
        "\n",
        " You should return a given string in reverse order.\n",
        "\n",
        "Input: A string (str).\n",
        "\n",
        "Output: A string (str)."
      ],
      "metadata": {
        "id": "sDKv-SntuGYf"
      }
    },
    {
      "cell_type": "code",
      "source": [
        "def backward_string(val: str) -> str:\n",
        "\n",
        "    return val[::-1]\n",
        "\n",
        "\n",
        "print(\"Example:\")\n",
        "print(backward_string(\"val\"))\n",
        "\n",
        "# These \"asserts\" are used for self-checking\n",
        "assert backward_string(\"val\") == \"lav\"\n",
        "assert backward_string(\"\") == \"\"\n",
        "assert backward_string(\"ohho\") == \"ohho\"\n",
        "assert backward_string(\"123456789\") == \"987654321\"\n",
        "\n",
        "print(\"The mission is done!\")"
      ],
      "metadata": {
        "colab": {
          "base_uri": "https://localhost:8080/"
        },
        "id": "JmhsKGUBuFo8",
        "outputId": "0bf73c98-b0c0-4814-e7d0-176684a5f47b"
      },
      "execution_count": 5,
      "outputs": [
        {
          "output_type": "stream",
          "name": "stdout",
          "text": [
            "Example:\n",
            "lav\n",
            "The mission is done!\n"
          ]
        }
      ]
    },
    {
      "cell_type": "markdown",
      "source": [
        "**Just Fizz!**\n",
        "\n",
        "You should write a function that will receive a positive integer and return: \"Fizz\" if the number is divisible by 3 (3, 6, 9 ...) otherwise convert the given number to a string (2 -> \"2\").\n",
        "\n",
        "Input: An integer (int).\n",
        "\n",
        "Output: A string (str)."
      ],
      "metadata": {
        "id": "5it524cKvinw"
      }
    },
    {
      "cell_type": "code",
      "source": [
        "def checkio(num: int) -> str:\n",
        "    if num%3==0:\n",
        "        return \"Fizz\"\n",
        "    else:\n",
        "        return str(num)\n",
        "\n",
        "\n",
        "print(\"Example:\")\n",
        "print(checkio(3))\n",
        "\n",
        "# These \"asserts\" are used for self-checking\n",
        "assert checkio(15) == \"Fizz\"\n",
        "assert checkio(6) == \"Fizz\"\n",
        "assert checkio(10) == \"10\"\n",
        "assert checkio(7) == \"7\"\n",
        "\n",
        "print(\"The mission is done!\")"
      ],
      "metadata": {
        "colab": {
          "base_uri": "https://localhost:8080/"
        },
        "id": "a-2z8I73we8j",
        "outputId": "1b04454e-fc97-4c1e-c208-98611e2038d7"
      },
      "execution_count": 7,
      "outputs": [
        {
          "output_type": "stream",
          "name": "stdout",
          "text": [
            "Example:\n",
            "Fizz\n",
            "The mission is done!\n"
          ]
        }
      ]
    },
    {
      "cell_type": "markdown",
      "source": [
        "\n",
        "**Compress The String**\n",
        "\n",
        "In this task, we would like for you to appreciate the usefulness of the groupby() function of itertools . To read more about this function, Check this out .\n",
        "\n",
        "You are given a string s. Suppose a character 'c' occurs consecutively  times in the string. Replace these consecutive occurrences of the character 'c' with (X,c)  in the string.\n",
        "\n",
        "For a better understanding of the problem, check the explanation.\n",
        "\n",
        "Input Format\n",
        "\n",
        "A single line of input consisting of the string s.\n",
        "\n",
        "Output Format\n",
        "\n",
        "A single line of output consisting of the modified string."
      ],
      "metadata": {
        "id": "jSZvV10IzU6X"
      }
    },
    {
      "cell_type": "code",
      "source": [
        "# Enter your code here. Read input from STDIN. Print output to STDOUT\n",
        "from itertools import *\n",
        "\n",
        "s=input()\n",
        "ll=[]\n",
        "for i, j in groupby(s):\n",
        "    x,y=len(list(j)), int(i)\n",
        "    ll.append((x,y))\n",
        "print(*ll)"
      ],
      "metadata": {
        "colab": {
          "base_uri": "https://localhost:8080/"
        },
        "id": "klOpv_S4w0za",
        "outputId": "e19a8685-50ea-4d3d-bc68-6e2b9520ed3d"
      },
      "execution_count": 8,
      "outputs": [
        {
          "output_type": "stream",
          "name": "stdout",
          "text": [
            "1111236562\n",
            "(4, 1) (1, 2) (1, 3) (1, 6) (1, 5) (1, 6) (1, 2)\n"
          ]
        }
      ]
    }
  ]
}
