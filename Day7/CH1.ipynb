{
  "nbformat": 4,
  "nbformat_minor": 0,
  "metadata": {
    "colab": {
      "provenance": []
    },
    "kernelspec": {
      "name": "python3",
      "display_name": "Python 3"
    },
    "language_info": {
      "name": "python"
    }
  },
  "cells": [
    {
      "cell_type": "markdown",
      "source": [
        "**Challenge 1**\n",
        "\n",
        "Write a code whose input is a text of maximum 3200 words and its output\n",
        "\n",
        "1️⃣ The number of permutations (the number of situations where the words of the input text are placed next to each other without repetition and order is not important)\n",
        "\n",
        "2️⃣ states of putting words together in a csv file"
      ],
      "metadata": {
        "id": "QmhyNpXOWrWo"
      }
    },
    {
      "cell_type": "markdown",
      "source": [
        "**import libs**"
      ],
      "metadata": {
        "id": "jhggJUaRVyci"
      }
    },
    {
      "cell_type": "code",
      "source": [
        "import csv\n",
        "from itertools import permutations"
      ],
      "metadata": {
        "id": "zm_VHnVnUqkD"
      },
      "execution_count": 12,
      "outputs": []
    },
    {
      "cell_type": "markdown",
      "source": [
        "**calculate permutations**"
      ],
      "metadata": {
        "id": "Gd_C6SO-V6Aq"
      }
    },
    {
      "cell_type": "code",
      "source": [
        "def calculate_permutations(text):\n",
        "    words = text.split()[:3200]  # محدود کردن تعداد کلمات به 3200 کلمه\n",
        "    num_words = len(words)\n",
        "    num_permutations = 2 ** num_words\n",
        "    return num_permutations"
      ],
      "metadata": {
        "id": "Tnakqy0lVWqg"
      },
      "execution_count": 13,
      "outputs": []
    },
    {
      "cell_type": "markdown",
      "source": [
        "**save result to csv**"
      ],
      "metadata": {
        "id": "PzDodUUOWAnH"
      }
    },
    {
      "cell_type": "code",
      "source": [
        "def save_to_csv(words, filename):\n",
        "    with open(filename, 'w', newline='') as csvfile:\n",
        "        writer = csv.writer(csvfile)\n",
        "        writer.writerow(['Index', 'state'])\n",
        "        for i, word in enumerate(words, 1):\n",
        "            writer.writerow([i, word])"
      ],
      "metadata": {
        "id": "4dkiHKQ0Vc8x"
      },
      "execution_count": 14,
      "outputs": []
    },
    {
      "cell_type": "markdown",
      "source": [
        "**generate permutations**"
      ],
      "metadata": {
        "id": "vrnunvUlWbpz"
      }
    },
    {
      "cell_type": "code",
      "source": [
        "def generate_permutations(text):\n",
        "    words = text.split()\n",
        "    num_words = len(words)\n",
        "    permutations_list = []\n",
        "\n",
        "    for r in range(1, num_words + 1):\n",
        "        combinations = permutations(words, r)\n",
        "        permutations_list.extend([' '.join(comb) for comb in combinations])\n",
        "\n",
        "    return permutations_list"
      ],
      "metadata": {
        "id": "CuOjCG3VVgAo"
      },
      "execution_count": 15,
      "outputs": []
    },
    {
      "cell_type": "markdown",
      "source": [
        "**main**"
      ],
      "metadata": {
        "id": "PPf26VxrWkQj"
      }
    },
    {
      "cell_type": "code",
      "source": [
        "input_text = input(\"Enter the text: \")\n",
        "num_permutations = calculate_permutations(input_text)\n",
        "permutations_list = generate_permutations(input_text)\n",
        "print(\"Number of states:\", num_permutations)\n",
        "print(\"CSV file:\")\n",
        "save_to_csv(permutations_list, 'permutations.csv')"
      ],
      "metadata": {
        "id": "YuFvx6DjVhQ2"
      },
      "execution_count": null,
      "outputs": []
    }
  ]
}
