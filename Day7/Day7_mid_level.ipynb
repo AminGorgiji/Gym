{
  "nbformat": 4,
  "nbformat_minor": 0,
  "metadata": {
    "colab": {
      "provenance": []
    },
    "kernelspec": {
      "name": "python3",
      "display_name": "Python 3"
    },
    "language_info": {
      "name": "python"
    }
  },
  "cells": [
    {
      "cell_type": "markdown",
      "source": [
        "**Acceptable Password VI**\n",
        "\n",
        "in this mission you need to create a password verification function.\n",
        "\n",
        "The verification conditions are:\n",
        "\n",
        "the length should be bigger than 6;\n",
        "should contain at least one digit, but it cannot consist of just digits;\n",
        "having numbers or containing just numbers does not apply to the password longer than 9.\n",
        "a string should not contain the word \"password\" in any case;\n",
        "should contain at least 3 different (case-sensitive) letters (or digits) even if it is longer than 10.\n",
        "\n",
        "Input: A string (str).\n",
        "\n",
        "Output: A logic value (bool)."
      ],
      "metadata": {
        "id": "3-PC4FgieZBT"
      }
    },
    {
      "cell_type": "code",
      "source": [
        "# Taken from mission Acceptable Password V\n",
        "\n",
        "# Taken from mission Acceptable Password IV\n",
        "# Taken from mission Acceptable Password III\n",
        "# Taken from mission Acceptable Password II\n",
        "# Taken from mission Acceptable Password I\n",
        "def is_acceptable_password(password: str) -> bool:\n",
        "\n",
        "    cond1 = len(password) > 6\n",
        "    cond2 = any(char.isdigit() for char in password)\n",
        "    cond3 = any(char.isalpha() for char in password)\n",
        "    if len(password) > 9: # cond4\n",
        "        cond2 = cond3 = True\n",
        "    cond5 = 'password' not in password.lower()\n",
        "    cond6 = len(set(password)) > 2\n",
        "\n",
        "    return all([cond1, cond2, cond3, cond5, cond6])\n",
        "\n",
        "\n",
        "print(\"Example:\")\n",
        "print(is_acceptable_password(\"short\"))\n",
        "\n",
        "# These \"asserts\" are used for self-checking\n",
        "assert is_acceptable_password(\"short\") == False\n",
        "assert is_acceptable_password(\"short54\") == True\n",
        "assert is_acceptable_password(\"muchlonger\") == True\n",
        "assert is_acceptable_password(\"ashort\") == False\n",
        "assert is_acceptable_password(\"muchlonger5\") == True\n",
        "assert is_acceptable_password(\"sh5\") == False\n",
        "assert is_acceptable_password(\"1234567\") == False\n",
        "assert is_acceptable_password(\"12345678910\") == True\n",
        "assert is_acceptable_password(\"password12345\") == False\n",
        "assert is_acceptable_password(\"PASSWORD12345\") == False\n",
        "assert is_acceptable_password(\"pass1234word\") == True\n",
        "assert is_acceptable_password(\"aaaaaa1\") == False\n",
        "assert is_acceptable_password(\"aaaaaabbbbb\") == False\n",
        "assert is_acceptable_password(\"aaaaaabb1\") == True\n",
        "assert is_acceptable_password(\"abc1\") == False\n",
        "assert is_acceptable_password(\"abbcc12\") == True\n",
        "assert is_acceptable_password(\"aaaaaaabbaaaaaaaab\") == False\n",
        "\n",
        "print(\"The mission is done!\")\n"
      ],
      "metadata": {
        "colab": {
          "base_uri": "https://localhost:8080/"
        },
        "id": "Or9EZrc6fZMZ",
        "outputId": "cc86776b-b2e2-43eb-d7c7-ac11303556be"
      },
      "execution_count": 2,
      "outputs": [
        {
          "output_type": "stream",
          "name": "stdout",
          "text": [
            "Example:\n",
            "False\n",
            "The mission is done!\n"
          ]
        }
      ]
    },
    {
      "cell_type": "markdown",
      "source": [
        "**Correct Sentence**\n",
        "\n",
        "For the input of your function, you will be given one sentence. You have to return a corrected version, that starts with a capital letter and ends with a period (dot).\n",
        "\n",
        "Pay attention to the fact that not all of the fixes are necessary. If a sentence already ends with a period (dot), then adding another one will be a mistake.\n",
        "\n",
        "Input: A string (str).\n",
        "\n",
        "Output: A string (str)."
      ],
      "metadata": {
        "id": "6SXEogV1fgAF"
      }
    },
    {
      "cell_type": "code",
      "source": [
        "def correct_sentence(text: str) -> str:\n",
        "\n",
        "    text = text[0].upper() + text[1:]\n",
        "    if not text.endswith('.'):\n",
        "        text += '.'\n",
        "\n",
        "    return text\n",
        "\n",
        "\n",
        "print(\"Example:\")\n",
        "print(correct_sentence(\"greetings, friends\"))\n",
        "\n",
        "# These \"asserts\" are used for self-checking\n",
        "assert correct_sentence(\"greetings, friends\") == \"Greetings, friends.\"\n",
        "assert correct_sentence(\"Greetings, friends\") == \"Greetings, friends.\"\n",
        "assert correct_sentence(\"Greetings, friends.\") == \"Greetings, friends.\"\n",
        "assert correct_sentence(\"greetings, friends.\") == \"Greetings, friends.\"\n",
        "\n",
        "print(\"The mission is done!\")\n"
      ],
      "metadata": {
        "colab": {
          "base_uri": "https://localhost:8080/"
        },
        "id": "MtakHBSrfqIR",
        "outputId": "abb6609d-4595-4a6e-8cba-9b72d760da0d"
      },
      "execution_count": 4,
      "outputs": [
        {
          "output_type": "stream",
          "name": "stdout",
          "text": [
            "Example:\n",
            "Greetings, friends.\n",
            "The mission is done!\n"
          ]
        }
      ]
    },
    {
      "cell_type": "markdown",
      "source": [
        "**First Word**\n",
        "\n",
        "I might see a simplified version of this mission already First Word (simplified). This mission is a little bit more complex as not only English letters can be in the given string.\n",
        "\n",
        "You are given a string where you have to find its first word.\n",
        "\n",
        "When solving a task pay attention to the following points:\n",
        "\n",
        "There can be dots and commas in a string.\n",
        "A string can start with a letter or, for example, one/multiple dot(s) or space(s).\n",
        "A word can contain an apostrophe and it's a part of a word.\n",
        "The whole text can be represented with one word and that's it.\n",
        "\n",
        "Input: A string (str).\n",
        "\n",
        "Output: A string (str)."
      ],
      "metadata": {
        "id": "QPJPQrHofv3v"
      }
    },
    {
      "cell_type": "code",
      "source": [
        "def first_word(text: str) -> str:\n",
        "\n",
        "    text = text.replace('.', ' ').replace(',', ' ')\n",
        "    text = text.split()\n",
        "\n",
        "    return text[0]\n",
        "\n",
        "\n",
        "print(\"Example:\")\n",
        "print(first_word(\"Hello world\"))\n",
        "\n",
        "# These \"asserts\" are used for self-checking\n",
        "assert first_word(\"Hello world\") == \"Hello\"\n",
        "assert first_word(\" a word \") == \"a\"\n",
        "assert first_word(\"don't touch it\") == \"don't\"\n",
        "assert first_word(\"greetings, friends\") == \"greetings\"\n",
        "assert first_word(\"... and so on ...\") == \"and\"\n",
        "assert first_word(\"hi\") == \"hi\"\n",
        "\n",
        "print(\"The mission is done!\")\n"
      ],
      "metadata": {
        "colab": {
          "base_uri": "https://localhost:8080/"
        },
        "id": "smy4lriQf7of",
        "outputId": "bbd0f14c-5776-4801-b052-3fa54ada390e"
      },
      "execution_count": 6,
      "outputs": [
        {
          "output_type": "stream",
          "name": "stdout",
          "text": [
            "Example:\n",
            "Hello\n",
            "The mission is done!\n"
          ]
        }
      ]
    },
    {
      "cell_type": "markdown",
      "source": [
        "**Speech Module**\n",
        "\n",
        "Stephen's speech module is broken. This module is responsible for his number pronunciation. He has to click to input all of the numerical digits in a figure, so when there are big numbers it can take him a long time. Help the robot to speak properly and increase his number processing speed by writing a new speech module for him. All the words in the string must be separated by exactly one space character. Be careful with spaces - it's hard to see if you place two spaces instead one.\n",
        "\n",
        "Input: An integer (int).\n",
        "\n",
        "Output: A string (str)."
      ],
      "metadata": {
        "id": "4WNhV2QdgqDs"
      }
    },
    {
      "cell_type": "code",
      "source": [
        "FIRST_TEN = \"\", \"one\", \"two\", \"three\", \"four\", \"five\", \"six\",\\\n",
        "\"seven\", \"eight\", \"nine\"\n",
        "SECOND_TEN = \"ten\", \"eleven\", \"twelve\", \"thirteen\", \"fourteen\",\\\n",
        "\"fifteen\", \"sixteen\", \"seventeen\", \"eighteen\", \"nineteen\"\n",
        "OTHER_TENS = \"\", \"\", \"twenty\", \"thirty\", \"forty\", \"fifty\", \"sixty\",\\\n",
        "\"seventy\", \"eighty\", \"ninety\"\n",
        "\n",
        "def checkio(num: int) -> str:\n",
        "\n",
        "    h, t, o = map(int, str(num).zfill(3))\n",
        "\n",
        "    res = FIRST_TEN[h], \"hundred\"*bool(h)\n",
        "    res += (SECOND_TEN[o],) if t == 1 else (OTHER_TENS[t], FIRST_TEN[o])\n",
        "\n",
        "    return \" \".join(filter(bool, res))\n",
        "\n",
        "\n",
        "print(\"Example:\")\n",
        "print(checkio(4))\n",
        "\n",
        "# These \"asserts\" are used for self-checking\n",
        "assert checkio(1) == \"one\"\n",
        "assert checkio(2) == \"two\"\n",
        "assert checkio(3) == \"three\"\n",
        "assert checkio(4) == \"four\"\n",
        "assert checkio(5) == \"five\"\n",
        "assert checkio(6) == \"six\"\n",
        "assert checkio(9) == \"nine\"\n",
        "assert checkio(10) == \"ten\"\n",
        "assert checkio(11) == \"eleven\"\n",
        "assert checkio(12) == \"twelve\"\n",
        "assert checkio(13) == \"thirteen\"\n",
        "assert checkio(14) == \"fourteen\"\n",
        "assert checkio(15) == \"fifteen\"\n",
        "assert checkio(16) == \"sixteen\"\n",
        "assert checkio(17) == \"seventeen\"\n",
        "assert checkio(18) == \"eighteen\"\n",
        "assert checkio(19) == \"nineteen\"\n",
        "assert checkio(999) == \"nine hundred ninety nine\"\n",
        "assert checkio(784) == \"seven hundred eighty four\"\n",
        "assert checkio(777) == \"seven hundred seventy seven\"\n",
        "assert checkio(88) == \"eighty eight\"\n",
        "assert checkio(44) == \"forty four\"\n",
        "assert checkio(20) == \"twenty\"\n",
        "assert checkio(30) == \"thirty\"\n",
        "assert checkio(40) == \"forty\"\n",
        "assert checkio(50) == \"fifty\"\n",
        "assert checkio(80) == \"eighty\"\n",
        "assert checkio(90) == \"ninety\"\n",
        "assert checkio(100) == \"one hundred\"\n",
        "assert checkio(200) == \"two hundred\"\n",
        "assert checkio(300) == \"three hundred\"\n",
        "assert checkio(600) == \"six hundred\"\n",
        "assert checkio(700) == \"seven hundred\"\n",
        "assert checkio(900) == \"nine hundred\"\n",
        "assert checkio(21) == \"twenty one\"\n",
        "assert checkio(312) == \"three hundred twelve\"\n",
        "assert checkio(302) == \"three hundred two\"\n",
        "assert checkio(509) == \"five hundred nine\"\n",
        "assert checkio(753) == \"seven hundred fifty three\"\n",
        "assert checkio(940) == \"nine hundred forty\"\n",
        "assert checkio(999) == \"nine hundred ninety nine\"\n",
        "\n",
        "print(\"The mission is done!\")\n"
      ],
      "metadata": {
        "colab": {
          "base_uri": "https://localhost:8080/"
        },
        "id": "JrGrT0LngvsB",
        "outputId": "75c0913a-604f-40c1-bca9-52596c821396"
      },
      "execution_count": 7,
      "outputs": [
        {
          "output_type": "stream",
          "name": "stdout",
          "text": [
            "Example:\n",
            "four\n",
            "The mission is done!\n"
          ]
        }
      ]
    },
    {
      "cell_type": "markdown",
      "source": [
        "**Goes Right After**\n",
        "\n",
        "In a given word you need to check if one symbol goes only right after another.\n",
        "\n",
        "Cases you should expect while solving this challenge:\n",
        "\n",
        "one of the symbols is not in the given word - your function should return False;\n",
        "any symbol appears in a word more than once - use only the first one;\n",
        "two symbols are the same - your function should return False;\n",
        "the condition is case sensitive, which means 'a' and 'A' are two different symbols.\n",
        "\n",
        "Input: Three arguments. The first one is a given string (str), second is a symbol (str) that should go first, and the third is a symbol (str) that should go after the first one.\n",
        "\n",
        "Output: A logic value (bool)."
      ],
      "metadata": {
        "id": "eZPgMGQlg4Pu"
      }
    },
    {
      "cell_type": "code",
      "source": [
        "# Taken from mission Goes Right After (simplified)\n",
        "\n",
        "def goes_after(word: str, first: str, second: str) -> bool:\n",
        "\n",
        "    return -1 < word.find(first + second) == word.find(first) < word.find(second)\n",
        "\n",
        "\n",
        "print(\"Example:\")\n",
        "print(goes_after(\"world\", \"w\", \"o\"))\n",
        "\n",
        "# These \"asserts\" are used for self-checking\n",
        "assert goes_after(\"world\", \"w\", \"o\") == True\n",
        "assert goes_after(\"world\", \"w\", \"r\") == False\n",
        "assert goes_after(\"world\", \"l\", \"o\") == False\n",
        "assert goes_after(\"panorama\", \"a\", \"n\") == True\n",
        "assert goes_after(\"list\", \"l\", \"o\") == False\n",
        "assert goes_after(\"\", \"l\", \"o\") == False\n",
        "assert goes_after(\"list\", \"l\", \"l\") == False\n",
        "assert goes_after(\"world\", \"d\", \"w\") == False\n",
        "assert goes_after(\"Almaz\", \"a\", \"l\") == False\n",
        "\n",
        "print(\"The mission is done!\")\n"
      ],
      "metadata": {
        "colab": {
          "base_uri": "https://localhost:8080/"
        },
        "id": "whI5iGGEhnTJ",
        "outputId": "0a9f8d63-99c5-4d54-901a-52c6d84e9757"
      },
      "execution_count": 9,
      "outputs": [
        {
          "output_type": "stream",
          "name": "stdout",
          "text": [
            "Example:\n",
            "True\n",
            "The mission is done!\n"
          ]
        }
      ]
    },
    {
      "cell_type": "markdown",
      "source": [
        "**No Idea!**\n",
        "\n",
        "There is an array of n integers. There are also 2 disjoint sets, A and B, each containing m integers. You like all the integers in set A and dislike all the integers in set B. Your initial happiness is 0. For each i integer in the array, if i in A , you add 1 to your happiness. If i in B , you add -1 to your happiness. Otherwise, your happiness does not change. Output your final happiness at the end.\n",
        "\n",
        "Note: Since A and B are sets, they have no repeated elements. However, the array might contain duplicate elements."
      ],
      "metadata": {
        "id": "XF8yFs9Phs_f"
      }
    },
    {
      "cell_type": "code",
      "source": [
        "m,n=map(int,input().split())\n",
        "a=list(map(int,input().split()))\n",
        "A=set(map(int,input().split()))\n",
        "B=set(map(int,input().split()))\n",
        "happiness = 0\n",
        "for i in a:\n",
        "    if i in A:\n",
        "        happiness+=1\n",
        "    elif i in B:\n",
        "        happiness+=-1\n",
        "    else:\n",
        "        continue\n",
        "print(happiness)"
      ],
      "metadata": {
        "colab": {
          "base_uri": "https://localhost:8080/"
        },
        "id": "GG8sj5m_iXQb",
        "outputId": "7f031761-b8d8-49a2-be3f-d772323517e7"
      },
      "execution_count": 10,
      "outputs": [
        {
          "output_type": "stream",
          "name": "stdout",
          "text": [
            "3 2\n",
            "1 3 5\n",
            "3 1\n",
            "5 7\n",
            "1\n"
          ]
        }
      ]
    }
  ]
}