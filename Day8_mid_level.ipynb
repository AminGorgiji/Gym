{
  "nbformat": 4,
  "nbformat_minor": 0,
  "metadata": {
    "colab": {
      "provenance": []
    },
    "kernelspec": {
      "name": "python3",
      "display_name": "Python 3"
    },
    "language_info": {
      "name": "python"
    }
  },
  "cells": [
    {
      "cell_type": "markdown",
      "source": [
        "**Validating Credit Card Number**\n",
        "\n",
        "You and Fredrick are good friends. Yesterday, Fredrick received N credit cards from ABCD Bank. He wants to verify whether his credit card numbers are valid or not. You happen to be great at regex so he is asking for your help!\n",
        "\n",
        "A valid credit card from ABCD Bank has the following characteristics:\n",
        "\n",
        "► It must start with a 4, 5 or 6.\n",
        "\n",
        "► It must contain exactly 16 digits.\n",
        "\n",
        "► It must only consist of digits (0-9).\n",
        "\n",
        "► It may have digits in groups of 4, separated by one hyphen \"-\".\n",
        "\n",
        "► It must NOT use any other separator like '  ' , '_', etc.\n",
        "\n",
        "► It must NOT have 4 or more consecutive repeated digits."
      ],
      "metadata": {
        "id": "0waeZ_0gqvp3"
      }
    },
    {
      "cell_type": "code",
      "execution_count": 1,
      "metadata": {
        "colab": {
          "base_uri": "https://localhost:8080/"
        },
        "id": "0f3VIoEgqhKf",
        "outputId": "68384177-31b0-478d-a82d-36571bb66cc4"
      },
      "outputs": [
        {
          "output_type": "stream",
          "name": "stdout",
          "text": [
            "1\n",
            "4253625879615786\n",
            "Valid\n"
          ]
        }
      ],
      "source": [
        "# Enter your code here. Read input from STDIN. Print output to STDOUT\n",
        "import re\n",
        "n = int(input())\n",
        "for i in range(n):\n",
        "    e = input()\n",
        "    f = re.search(r\"^[4-6]\\d{3}(-?)(\\d{4}\\1){2}\\d{4}$\",e)\n",
        "    if f :\n",
        "        f = re.search(r\"(\\d)-?(\\1-?){3}\",e)\n",
        "        if f :\n",
        "            print(\"Invalid\")\n",
        "        else :\n",
        "            print(\"Valid\")\n",
        "    else :\n",
        "        print(\"Invalid\")"
      ]
    }
  ]
}