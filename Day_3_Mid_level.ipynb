{
  "nbformat": 4,
  "nbformat_minor": 0,
  "metadata": {
    "colab": {
      "provenance": []
    },
    "kernelspec": {
      "name": "python3",
      "display_name": "Python 3"
    },
    "language_info": {
      "name": "python"
    }
  },
  "cells": [
    {
      "cell_type": "markdown",
      "source": [
        "**Acceptable Password II**\n",
        "\n",
        "In this mission you need to create a password verification function.\n",
        "\n",
        "The verification conditions are:\n",
        "\n",
        "the length should be bigger than 6; should contain at least one digit.\n",
        "\n",
        "Input: A string (str).\n",
        "\n",
        "Output: A logic value (bool)."
      ],
      "metadata": {
        "id": "6FFdgNr-U5cT"
      }
    },
    {
      "cell_type": "code",
      "execution_count": 2,
      "metadata": {
        "colab": {
          "base_uri": "https://localhost:8080/"
        },
        "id": "Lv2YHJT_UEP2",
        "outputId": "2731d866-59ec-4675-90a4-88b9192ea166"
      },
      "outputs": [
        {
          "output_type": "stream",
          "name": "stdout",
          "text": [
            "Example:\n",
            "False\n",
            "The mission is done!\n"
          ]
        }
      ],
      "source": [
        "# Taken from mission Acceptable Password I\n",
        "\n",
        "def is_acceptable_password(password: str) -> bool:\n",
        "    # your code here\n",
        "        cond1 = len(password) > 6\n",
        "        cond2 = any(map(str.isdigit, password))\n",
        "        return all([cond1, cond2])\n",
        "\n",
        "print(\"Example:\")\n",
        "print(is_acceptable_password(\"short\"))\n",
        "\n",
        "# These \"asserts\" are used for self-checking\n",
        "assert is_acceptable_password(\"short\") == False\n",
        "assert is_acceptable_password(\"muchlonger\") == False\n",
        "assert is_acceptable_password(\"ashort\") == False\n",
        "assert is_acceptable_password(\"muchlonger5\") == True\n",
        "assert is_acceptable_password(\"sh5\") == False\n",
        "\n",
        "print(\"The mission is done!\")\n"
      ]
    },
    {
      "cell_type": "markdown",
      "source": [
        "**Acceptable Password III**\n",
        "\n",
        "In this mission you need to create a password verification function.\n",
        "\n",
        "The verification conditions are:\n",
        "\n",
        "the length should be bigger than 6;\n",
        "should contain at least one digit, but cannot consist of just digits.\n",
        "\n",
        "Input: A string (str).\n",
        "\n",
        "Output: A logic value (bool)."
      ],
      "metadata": {
        "id": "9gs57xXZV71o"
      }
    },
    {
      "cell_type": "code",
      "source": [
        "# Taken from mission Acceptable Password II\n",
        "\n",
        "# Taken from mission Acceptable Password I\n",
        "def is_acceptable_password(password: str) -> bool:\n",
        "    # your code here\n",
        "        cond1 = len(password) > 6\n",
        "        cond2 = any(map(str.isdigit, password))\n",
        "        cond3 = any(map(str.isalpha, password))\n",
        "        return all([cond1, cond2, cond3])\n",
        "\n",
        "\n",
        "print(\"Example:\")\n",
        "print(is_acceptable_password(\"short\"))\n",
        "\n",
        "# These \"asserts\" are used for self-checking\n",
        "assert is_acceptable_password(\"short\") == False\n",
        "assert is_acceptable_password(\"muchlonger\") == False\n",
        "assert is_acceptable_password(\"ashort\") == False\n",
        "assert is_acceptable_password(\"muchlonger5\") == True\n",
        "assert is_acceptable_password(\"sh5\") == False\n",
        "assert is_acceptable_password(\"1234567\") == False\n",
        "\n",
        "print(\"The mission is done!\")\n"
      ],
      "metadata": {
        "colab": {
          "base_uri": "https://localhost:8080/"
        },
        "id": "C2h2BPo-WaC5",
        "outputId": "ec5491be-2535-40c5-9fde-66d45ffb9836"
      },
      "execution_count": 3,
      "outputs": [
        {
          "output_type": "stream",
          "name": "stdout",
          "text": [
            "Example:\n",
            "False\n",
            "The mission is done!\n"
          ]
        }
      ]
    },
    {
      "cell_type": "markdown",
      "source": [
        "**Acceptable Password IV**\n",
        "\n",
        "\n",
        "In this mission you need to create a password verification function.\n",
        "\n",
        "The verification conditions are:\n",
        "\n",
        "the length should be bigger than 6;\n",
        "should contain at least one digit, but it cannot consist of just digits;\n",
        "if the password is longer than 9 - previous rule (about one digit), is not required.\n",
        "\n",
        "Input: A string (str).\n",
        "\n",
        "Output: A logic value (bool)."
      ],
      "metadata": {
        "id": "i9jT1a7_Wry5"
      }
    },
    {
      "cell_type": "code",
      "source": [
        "# Taken from mission Acceptable Password III\n",
        "\n",
        "# Taken from mission Acceptable Password II\n",
        "# Taken from mission Acceptable Password I\n",
        "def is_acceptable_password(password: str) -> bool:\n",
        "    # your code here\n",
        "        cond1 = len(password) > 6\n",
        "        cond2 = any(map(str.isdigit, password))\n",
        "        cond3 = any(map(str.isalpha, password))\n",
        "        if len(password) > 9: # cond4\n",
        "            cond2 = cond3 = True\n",
        "        return all([cond1, cond2, cond3])\n",
        "\n",
        "\n",
        "print(\"Example:\")\n",
        "print(is_acceptable_password(\"short\"))\n",
        "\n",
        "# These \"asserts\" are used for self-checking\n",
        "assert is_acceptable_password(\"short\") == False\n",
        "assert is_acceptable_password(\"short54\") == True\n",
        "assert is_acceptable_password(\"muchlonger\") == True\n",
        "assert is_acceptable_password(\"ashort\") == False\n",
        "assert is_acceptable_password(\"notshort\") == False\n",
        "assert is_acceptable_password(\"muchlonger5\") == True\n",
        "assert is_acceptable_password(\"sh5\") == False\n",
        "assert is_acceptable_password(\"1234567\") == False\n",
        "assert is_acceptable_password(\"12345678910\") == True\n",
        "\n",
        "print(\"The mission is done!\")\n"
      ],
      "metadata": {
        "colab": {
          "base_uri": "https://localhost:8080/"
        },
        "id": "SczuA0NIWlWD",
        "outputId": "9ad4f8b2-1aa6-4fb5-c153-7ddcde7ebb69"
      },
      "execution_count": 4,
      "outputs": [
        {
          "output_type": "stream",
          "name": "stdout",
          "text": [
            "Example:\n",
            "False\n",
            "The mission is done!\n"
          ]
        }
      ]
    },
    {
      "cell_type": "markdown",
      "source": [
        "**Acceptable Password V**\n",
        "\n",
        "In this mission you need to create a password verification function.\n",
        "\n",
        "The verification conditions are:\n",
        "\n",
        "the length should be bigger than 6;\n",
        "should contain at least one digit, but it cannot consist of just digits;\n",
        "having numbers or containing just numbers does not apply to the password longer than 9;\n",
        "a string should not contain the word \"password\" in any case.\n",
        "\n",
        "Input: A string (str).\n",
        "\n",
        "Output: A logic value (bool)."
      ],
      "metadata": {
        "id": "O6rJRNDMW90C"
      }
    },
    {
      "cell_type": "code",
      "source": [
        "# Taken from mission Acceptable Password IV\n",
        "\n",
        "# Taken from mission Acceptable Password III\n",
        "# Taken from mission Acceptable Password II\n",
        "# Taken from mission Acceptable Password I\n",
        "def is_acceptable_password(password: str) -> bool:\n",
        "    # your code here\n",
        "        cond1 = len(password) > 6\n",
        "        cond2 = any(map(str.isdigit, password))\n",
        "        cond3 = any(map(str.isalpha, password))\n",
        "        if len(password) > 9: # cond4\n",
        "            cond2 = cond3 = True\n",
        "        cond4 = 'password' not in password.lower()\n",
        "        return all([cond1, cond2, cond3, cond4])\n",
        "\n",
        "\n",
        "print(\"Example:\")\n",
        "print(is_acceptable_password(\"short\"))\n",
        "\n",
        "# These \"asserts\" are used for self-checking\n",
        "assert is_acceptable_password(\"short\") == False\n",
        "assert is_acceptable_password(\"short54\") == True\n",
        "assert is_acceptable_password(\"muchlonger\") == True\n",
        "assert is_acceptable_password(\"ashort\") == False\n",
        "assert is_acceptable_password(\"muchlonger5\") == True\n",
        "assert is_acceptable_password(\"sh5\") == False\n",
        "assert is_acceptable_password(\"1234567\") == False\n",
        "assert is_acceptable_password(\"12345678910\") == True\n",
        "assert is_acceptable_password(\"password12345\") == False\n",
        "assert is_acceptable_password(\"PASSWORD12345\") == False\n",
        "assert is_acceptable_password(\"pass1234word\") == True\n",
        "\n",
        "print(\"The mission is done! Click 'Check Solution' to earn rewards!\")\n"
      ],
      "metadata": {
        "colab": {
          "base_uri": "https://localhost:8080/"
        },
        "id": "qLEMOQW9W9JW",
        "outputId": "9157ca32-dfce-4788-fef9-3af5dcf22591"
      },
      "execution_count": 5,
      "outputs": [
        {
          "output_type": "stream",
          "name": "stdout",
          "text": [
            "Example:\n",
            "False\n",
            "The mission is done! Click 'Check Solution' to earn rewards!\n"
          ]
        }
      ]
    },
    {
      "cell_type": "markdown",
      "source": [
        "**Between Markers (simplified)**\n",
        "\n",
        "You are given a string and two markers (the initial one and final). You have to find a substring enclosed between these two markers. But there are a few important conditions.\n",
        "\n",
        "The initial and final markers are always different.\n",
        "The initial and final markers are always 1 char size.\n",
        "The initial and final markers always exist in a string and go one after another.\n",
        "\n",
        "Input: Three arguments. All of them are strings (str). The second and third arguments are the initial and final markers.\n",
        "\n",
        "Output: A string (str)."
      ],
      "metadata": {
        "id": "JF2ymE70XUlh"
      }
    },
    {
      "cell_type": "code",
      "source": [
        "def between_markers(text: str, start: str, end: str) -> str:\n",
        "    # your code here\n",
        "    a = text.find(start)\n",
        "    b = text.rfind(end)\n",
        "    return text[a+1:b]\n",
        "\n",
        "\n",
        "print(\"Example:\")\n",
        "print(between_markers(\"What is >apple<\", \">\", \"<\"))\n",
        "\n",
        "# These \"asserts\" are used for self-checking\n",
        "assert between_markers(\"What is >apple<\", \">\", \"<\") == \"apple\"\n",
        "assert between_markers(\"What is [apple]\", \"[\", \"]\") == \"apple\"\n",
        "assert between_markers(\"What is ><\", \">\", \"<\") == \"\"\n",
        "assert between_markers(\"[an apple]\", \"[\", \"]\") == \"an apple\"\n",
        "\n",
        "print(\"The mission is done!\")\n"
      ],
      "metadata": {
        "colab": {
          "base_uri": "https://localhost:8080/"
        },
        "id": "YQwlWVGeXUBg",
        "outputId": "07c7da1b-e21e-44b0-d45b-5a31edd9a9a6"
      },
      "execution_count": 6,
      "outputs": [
        {
          "output_type": "stream",
          "name": "stdout",
          "text": [
            "Example:\n",
            "apple\n",
            "The mission is done!\n"
          ]
        }
      ]
    },
    {
      "cell_type": "markdown",
      "source": [
        "**Word Order**\n",
        "\n",
        "You are given n words. Some words may repeat. For each word, output its number of occurrences. The output order should correspond with the input order of appearance of the word. See the sample input/output for clarification.\n",
        "\n",
        "Input Format\n",
        "\n",
        "The first line contains the integer, n.\n",
        "The next n lines each contain a word.\n",
        "\n",
        "Output Format\n",
        "\n",
        "Output 2 lines.\n",
        "On the first line, output the number of distinct words from the input.\n",
        "On the second line, output the number of occurrences for each distinct word according to their appearance in the input."
      ],
      "metadata": {
        "id": "JVyCyC2YXvPi"
      }
    },
    {
      "cell_type": "code",
      "source": [
        "# Enter your code here. Read input from STDIN. Print output to STDOUT\n",
        "from collections import Counter\n",
        "world_list = []\n",
        "n = int(input())\n",
        "for i in range(n):\n",
        "    world_list.append(input())\n",
        "d = Counter(world_list)\n",
        "print(len(d))\n",
        "for i in d:\n",
        "    print(d[i], end = ' ')"
      ],
      "metadata": {
        "colab": {
          "base_uri": "https://localhost:8080/"
        },
        "id": "G15Su56LYZVn",
        "outputId": "228b4858-8bc1-4c5e-dc25-cfbbe65d9e74"
      },
      "execution_count": 7,
      "outputs": [
        {
          "output_type": "stream",
          "name": "stdout",
          "text": [
            "2\n",
            "amin\n",
            "amin\n",
            "1\n",
            "2 "
          ]
        }
      ]
    }
  ]
}