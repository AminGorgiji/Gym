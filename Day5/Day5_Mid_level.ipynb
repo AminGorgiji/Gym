{
  "nbformat": 4,
  "nbformat_minor": 0,
  "metadata": {
    "colab": {
      "provenance": []
    },
    "kernelspec": {
      "name": "python3",
      "display_name": "Python 3"
    },
    "language_info": {
      "name": "python"
    }
  },
  "cells": [
    {
      "cell_type": "markdown",
      "source": [
        "**Goes Right After (simplified)**\n",
        "\n",
        "In a given string you need to check if one symbol goes right after another. If so - return True, otherwise - False.\n",
        "\n",
        "If one of the symbols is not in the given word - your function should return False. If two seeking symbols are the same - your function should return False.\n",
        "\n",
        "Input: Three arguments. The first one is a given string (str), second is a symbol (str) that should go first, and the third is a symbol (str) that should go after the first one.\n",
        "\n",
        "Output: A logic value (bool)."
      ],
      "metadata": {
        "id": "bm2qktfAwFyE"
      }
    },
    {
      "cell_type": "code",
      "execution_count": 2,
      "metadata": {
        "colab": {
          "base_uri": "https://localhost:8080/"
        },
        "id": "tIS3HSuqwCvD",
        "outputId": "f5995f41-0220-4333-8883-e9c3e0bc2c1c"
      },
      "outputs": [
        {
          "output_type": "stream",
          "name": "stdout",
          "text": [
            "Example:\n",
            "True\n",
            "The mission is done!\n"
          ]
        }
      ],
      "source": [
        "def goes_after(word: str, first: str, second: str) -> bool:\n",
        "    # your code here\n",
        "    a = word.find(first)\n",
        "    b = word.find(second)\n",
        "    c = b - a\n",
        "    if c == 1:\n",
        "        return True\n",
        "    else:\n",
        "        return False\n",
        "\n",
        "\n",
        "print(\"Example:\")\n",
        "print(goes_after(\"world\", \"w\", \"o\"))\n",
        "\n",
        "# These \"asserts\" are used for self-checking\n",
        "assert goes_after(\"world\", \"w\", \"o\") == True\n",
        "assert goes_after(\"world\", \"w\", \"r\") == False\n",
        "assert goes_after(\"world\", \"l\", \"o\") == False\n",
        "assert goes_after(\"list\", \"l\", \"o\") == False\n",
        "assert goes_after(\"\", \"l\", \"o\") == False\n",
        "assert goes_after(\"list\", \"l\", \"l\") == False\n",
        "assert goes_after(\"world\", \"d\", \"w\") == False\n",
        "\n",
        "print(\"The mission is done!\")"
      ]
    },
    {
      "cell_type": "markdown",
      "source": [
        "**Max Digit**\n",
        "\n",
        "You have a number and you need to determine which digit in this number is the biggest.\n",
        "\n",
        "Input: A positive integer (int).\n",
        "\n",
        "Output: An integer 0-9 (int)."
      ],
      "metadata": {
        "id": "ihgm1E-Ow9vt"
      }
    },
    {
      "cell_type": "code",
      "source": [
        "def max_digit(value: int) -> int:\n",
        "    # your code here\n",
        "    list_of_digits = [int(x) for x in str(value)]\n",
        "\n",
        "    return max(list_of_digits)\n",
        "\n",
        "\n",
        "print(\"Example:\")\n",
        "print(max_digit(10))\n",
        "\n",
        "# These \"asserts\" are used for self-checking\n",
        "assert max_digit(0) == 0\n",
        "assert max_digit(52) == 5\n",
        "assert max_digit(634) == 6\n",
        "assert max_digit(1) == 1\n",
        "assert max_digit(10000) == 1\n",
        "\n",
        "print(\"The mission is done!\")\n"
      ],
      "metadata": {
        "colab": {
          "base_uri": "https://localhost:8080/"
        },
        "id": "F4wgyz4-xKsA",
        "outputId": "5b006e3d-3a41-4200-a97f-f87340bfc2b2"
      },
      "execution_count": 4,
      "outputs": [
        {
          "output_type": "stream",
          "name": "stdout",
          "text": [
            "Example:\n",
            "1\n",
            "The mission is done!\n"
          ]
        }
      ]
    },
    {
      "cell_type": "markdown",
      "source": [
        "**Sum Numbers**\n",
        "\n",
        "In a given text you need to sum the numbers while excluding any digits that form part of a word.\n",
        "\n",
        "The text consists of numbers, spaces and letters from the English alphabet.\n",
        "\n",
        "Input: A string (str).\n",
        "\n",
        "Output: An integer (int)."
      ],
      "metadata": {
        "id": "jAkHFDIkxfZZ"
      }
    },
    {
      "cell_type": "code",
      "source": [
        "import re\n",
        "def sum_numbers(text: str) -> int:\n",
        "    # your code here\n",
        "    result = []\n",
        "    for i in text.split():\n",
        "        if i.isdigit():\n",
        "            result.append(int(i))\n",
        "    return sum(result)\n",
        "\n",
        "\n",
        "print(\"Example:\")\n",
        "print(sum_numbers(\"hi\"))\n",
        "\n",
        "# These \"asserts\" are used for self-checking\n",
        "assert sum_numbers(\"hi\") == 0\n",
        "assert sum_numbers(\"who is 1st here\") == 0\n",
        "assert sum_numbers(\"my numbers is 2\") == 2\n",
        "assert (\n",
        "    sum_numbers(\n",
        "        \"This picture is an oil on canvas painting by Danish artist Anna Petersen between 1845 and 1910 year\"\n",
        "    )\n",
        "    == 3755\n",
        ")\n",
        "assert sum_numbers(\"5 plus 6 is\") == 11\n",
        "assert sum_numbers(\"\") == 0\n",
        "\n",
        "print(\"The mission is done!\")\n"
      ],
      "metadata": {
        "colab": {
          "base_uri": "https://localhost:8080/"
        },
        "id": "KctavuzOxWUh",
        "outputId": "243d4f1a-2de4-4ba5-9b82-8f886a8009b1"
      },
      "execution_count": 5,
      "outputs": [
        {
          "output_type": "stream",
          "name": "stdout",
          "text": [
            "Example:\n",
            "0\n",
            "The mission is done!\n"
          ]
        }
      ]
    },
    {
      "cell_type": "markdown",
      "source": [
        "**Three Words**\n",
        "\n",
        "Let's teach the Robots to distinguish words and numbers.\n",
        "\n",
        "You are given a string with words and numbers separated by whitespaces (one space). The words contains only letters. You should check if the string contains three words in succession. For example, the string \"start 5 one two three 7 end\" contains three words in succession.\n",
        "\n",
        "Input: A string (str) with words.\n",
        "\n",
        "Output: Logic value (bool)."
      ],
      "metadata": {
        "id": "u2O8V2tpx0Bg"
      }
    },
    {
      "cell_type": "code",
      "source": [
        "def checkio(words: str) -> bool:\n",
        "    count = 0\n",
        "    for w in words.split():\n",
        "        if w.isalpha():\n",
        "            count += 1\n",
        "            if count == 3:\n",
        "                return True\n",
        "        else:\n",
        "            count = 0\n",
        "\n",
        "    return False\n",
        "\n",
        "\n",
        "print(\"Example:\")\n",
        "print(checkio(\"Hello World hello\"))\n",
        "\n",
        "# These \"asserts\" are used for self-checking\n",
        "assert checkio(\"Hello World hello\") == True\n",
        "assert checkio(\"He is 123 man\") == False\n",
        "assert checkio(\"1 2 3 4\") == False\n",
        "assert checkio(\"bla bla bla bla\") == True\n",
        "assert checkio(\"Hi\") == False\n",
        "\n",
        "print(\"The mission is done!\")\n"
      ],
      "metadata": {
        "colab": {
          "base_uri": "https://localhost:8080/"
        },
        "id": "SW60XtdRyKU3",
        "outputId": "28ac64cb-e091-49fb-fd70-bee7c4ef457c"
      },
      "execution_count": 6,
      "outputs": [
        {
          "output_type": "stream",
          "name": "stdout",
          "text": [
            "Example:\n",
            "True\n",
            "The mission is done!\n"
          ]
        }
      ]
    },
    {
      "cell_type": "markdown",
      "source": [
        "**Beginning Zeros**\n",
        "\n",
        "You have a string that consist only of digits. You need to find how many zero digits (\"0\") are at the beginning of the given string.\n",
        "\n",
        "Input: A string (str), that consists of digits.\n",
        "\n",
        "Output: An integer (int)."
      ],
      "metadata": {
        "id": "_QSOAziayVyo"
      }
    },
    {
      "cell_type": "code",
      "source": [
        "def beginning_zeros(a: str) -> int:\n",
        "    # your code here\n",
        "    a_num = int(a)\n",
        "    if not a_num: # case a as all zeros\n",
        "\n",
        "        return len(a)\n",
        "\n",
        "    return len(a) - len(str(a_num))\n",
        "\n",
        "\n",
        "print(\"Example:\")\n",
        "print(beginning_zeros(\"10\"))\n",
        "\n",
        "# These \"asserts\" are used for self-checking\n",
        "assert beginning_zeros(\"100\") == 0\n",
        "assert beginning_zeros(\"001\") == 2\n",
        "assert beginning_zeros(\"100100\") == 0\n",
        "assert beginning_zeros(\"001001\") == 2\n",
        "assert beginning_zeros(\"012345679\") == 1\n",
        "assert beginning_zeros(\"0000\") == 4\n",
        "\n",
        "print(\"The mission is done!\")\n"
      ],
      "metadata": {
        "colab": {
          "base_uri": "https://localhost:8080/"
        },
        "id": "rsFNR9gYyj2v",
        "outputId": "5fb35d62-84bd-48af-b559-a84f225649ee"
      },
      "execution_count": 7,
      "outputs": [
        {
          "output_type": "stream",
          "name": "stdout",
          "text": [
            "Example:\n",
            "0\n",
            "The mission is done!\n"
          ]
        }
      ]
    },
    {
      "cell_type": "markdown",
      "source": [
        "**Words Score**\n",
        "\n",
        "in this challenge, the task is to debug the existing code to successfully execute all provided test files.\n",
        "\n",
        "Consider that vowels in the alphabet are a, e, i, o, u and y.\n",
        "\n",
        "Function score_words takes a list of lowercase words as an argument and returns a score as follows:\n",
        "\n",
        "The score of a single word is 2 if the word contains an even number of vowels. Otherwise, the score of this word is 1. The score for the whole list of words is the sum of scores of all words in the list.\n",
        "\n",
        "Debug the given function score_words such that it returns a correct score.\n",
        "\n",
        "Your function will be tested on several cases by the locked template code."
      ],
      "metadata": {
        "id": "5BRZ-SuWypwE"
      }
    },
    {
      "cell_type": "code",
      "source": [
        "# Enter your code here. Read input from STDIN. Print output to STDOUT\n",
        "def score_words(word) :\n",
        "    a = ['e', 'a', 'i', 'o', 'u', 'y']\n",
        "\n",
        "    scores = []\n",
        "    for i in word:\n",
        "        vscore = 0\n",
        "        for j in i:\n",
        "            if j in a:\n",
        "                vscore += 1\n",
        "        if vscore%2==0:\n",
        "            scores.append(2)\n",
        "        else:\n",
        "            scores.append(1)\n",
        "    return sum(scores)\n",
        "n = int(input())\n",
        "words = input().split()\n",
        "print(score_words(words))"
      ],
      "metadata": {
        "colab": {
          "base_uri": "https://localhost:8080/"
        },
        "id": "qvyFlKblypXs",
        "outputId": "6a2bb2c3-81f7-4e5f-bf33-f8174a581c8d"
      },
      "execution_count": 8,
      "outputs": [
        {
          "output_type": "stream",
          "name": "stdout",
          "text": [
            "2\n",
            "book hacker\n",
            "4\n"
          ]
        }
      ]
    }
  ]
}
