{
  "nbformat": 4,
  "nbformat_minor": 0,
  "metadata": {
    "colab": {
      "provenance": []
    },
    "kernelspec": {
      "name": "python3",
      "display_name": "Python 3"
    },
    "language_info": {
      "name": "python"
    }
  },
  "cells": [
    {
      "cell_type": "markdown",
      "source": [
        "**Trangle Quest**\n",
        "\n",
        "You are given a positive integer N.\n",
        "Your task is to print a palindromic triangle of size N.\n",
        "\n",
        "For example, a palindromic triangle of size 5 is:\n",
        "\n",
        "1\n",
        "\n",
        "121\n",
        "\n",
        "12321\n",
        "\n",
        "1234321\n",
        "\n",
        "123454321\n",
        "\n",
        "\n",
        "You can't take more than two lines. The first line (a for-statement) is already written for you.\n",
        "\n",
        "You have to complete the code using exactly one print statement.\n",
        "\n"
      ],
      "metadata": {
        "id": "DJ-8H0A3pFQZ"
      }
    },
    {
      "cell_type": "code",
      "execution_count": 1,
      "metadata": {
        "colab": {
          "base_uri": "https://localhost:8080/"
        },
        "id": "5fPR5zrJowhH",
        "outputId": "424af4d2-82d2-47ff-a609-8c33470c3d9f"
      },
      "outputs": [
        {
          "output_type": "stream",
          "name": "stdout",
          "text": [
            "5\n",
            "1\n",
            "121\n",
            "12321\n",
            "1234321\n",
            "123454321\n"
          ]
        }
      ],
      "source": [
        "for i in range(1,int(input())+1):\n",
        "    print(((10**i)//9)**2)"
      ]
    }
  ]
}